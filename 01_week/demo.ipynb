{
 "cells": [
  {
   "cell_type": "code",
   "execution_count": 31,
   "metadata": {},
   "outputs": [],
   "source": [
    "# import\n",
    "import os\n",
    "import numpy as np\n",
    "import pandas as pd\n",
    "import pyarrow.parquet as pq\n",
    "from sklearn.feature_extraction import DictVectorizer\n",
    "\n",
    "from sklearn.linear_model import LinearRegression\n",
    "from sklearn.metrics import mean_squared_error\n",
    "# # Lets plot\n",
    "# import seaborn as sns\n",
    "# import matplotlib.pyplot as plt\n",
    "\n",
    "import warnings\n",
    "warnings.filterwarnings('ignore')"
   ]
  },
  {
   "cell_type": "code",
   "execution_count": 32,
   "metadata": {},
   "outputs": [],
   "source": [
    "# setting path to the data directory\n",
    "CURRENT_DIRECTORY = os.getcwd()\n",
    "PARENT_DIRECTORY = os.path.dirname(CURRENT_DIRECTORY)\n",
    "DATA_PATH = os.path.join(PARENT_DIRECTORY, '_data')"
   ]
  },
  {
   "cell_type": "code",
   "execution_count": 33,
   "metadata": {},
   "outputs": [],
   "source": [
    "# Read the data\n",
    "def read_data(filepath):\n",
    "    if filepath.endswith('.parquet'):\n",
    "        df = pq.read_table(filepath).to_pandas()\n",
    "        df.columns = df.columns.str.lower()\n",
    "    elif filepath.endswith('.csv'):\n",
    "        df = pd.read_csv(filepath)\n",
    "        df.columns = df.columns.str.lower()\n",
    "    else:\n",
    "        raise ValueError('Unsupported file format')\n",
    "    return df"
   ]
  },
  {
   "cell_type": "code",
   "execution_count": 51,
   "metadata": {},
   "outputs": [],
   "source": [
    "# Calculate trip duration and filter outliers\n",
    "def preprocess_data(df):\n",
    "    df['tpep_pickup_datetime'] = pd.to_datetime(df['tpep_pickup_datetime'])\n",
    "    df['tpep_dropoff_datetime'] = pd.to_datetime(df['tpep_dropoff_datetime'])\n",
    "    df['duration'] = (df['tpep_dropoff_datetime'] - df['tpep_pickup_datetime']).dt.total_seconds() / 60\n",
    "    df = df[(df['duration'] >= 1) & (df['duration'] <= 60)].copy()\n",
    "    df['pulocationid'] = df['pulocationid'].astype(str)\n",
    "    df['dolocationid'] = df['dolocationid'].astype(str)\n",
    "    return df"
   ]
  },
  {
   "cell_type": "code",
   "execution_count": 52,
   "metadata": {},
   "outputs": [],
   "source": [
    "# One-hot encoding\n",
    "def one_hot_encode(df, dv=None):\n",
    "    dicts = df[['pulocationid', 'dolocationid']].to_dict(orient='records')\n",
    "    if dv is None:\n",
    "        dv = DictVectorizer(sparse=False)\n",
    "        X = dv.fit_transform(dicts)\n",
    "    else:\n",
    "        X = dv.transform(dicts)\n",
    "    return X, dv"
   ]
  },
  {
   "cell_type": "code",
   "execution_count": 53,
   "metadata": {},
   "outputs": [],
   "source": [
    "# Calculate RMSE\n",
    "def rmse(y_true, y_pred):\n",
    "    return mean_squared_error(y_true, y_pred, squared=False)"
   ]
  },
  {
   "cell_type": "code",
   "execution_count": 54,
   "metadata": {},
   "outputs": [],
   "source": [
    "# Train model\n",
    "def train_model(X_train, y_train):\n",
    "    model = LinearRegression()\n",
    "    model.fit(X_train, y_train)\n",
    "    y_pred = model.predict(X_train)\n",
    "    train_rmse = rmse(y_train, y_pred)\n",
    "    return model, train_rmse"
   ]
  },
  {
   "cell_type": "code",
   "execution_count": 55,
   "metadata": {},
   "outputs": [
    {
     "name": "stdout",
     "output_type": "stream",
     "text": [
      "Number of columns in January data: 19\n",
      "Standard deviation of trips duration in January: 9.94\n"
     ]
    },
    {
     "ename": "ValueError",
     "evalue": "too many values to unpack (expected 2)",
     "output_type": "error",
     "traceback": [
      "\u001b[1;31m---------------------------------------------------------------------------\u001b[0m",
      "\u001b[1;31mValueError\u001b[0m                                Traceback (most recent call last)",
      "Cell \u001b[1;32mIn[55], line 12\u001b[0m\n\u001b[0;32m      9\u001b[0m \u001b[38;5;28mprint\u001b[39m(\u001b[38;5;124mf\u001b[39m\u001b[38;5;124m'\u001b[39m\u001b[38;5;124mStandard deviation of trips duration in January: \u001b[39m\u001b[38;5;132;01m{\u001b[39;00mjanuary_duration_std_dev\u001b[38;5;132;01m:\u001b[39;00m\u001b[38;5;124m.2f\u001b[39m\u001b[38;5;132;01m}\u001b[39;00m\u001b[38;5;124m'\u001b[39m)\n\u001b[0;32m     11\u001b[0m \u001b[38;5;66;03m# Filter outliers in January data\u001b[39;00m\n\u001b[1;32m---> 12\u001b[0m january_filtered_df, records_left_fraction \u001b[38;5;241m=\u001b[39m preprocess_data(january_df)\n\u001b[0;32m     13\u001b[0m \u001b[38;5;28mprint\u001b[39m(\u001b[38;5;124mf\u001b[39m\u001b[38;5;124m'\u001b[39m\u001b[38;5;124mFraction of records left after dropping outliers: \u001b[39m\u001b[38;5;132;01m{\u001b[39;00mrecords_left_fraction\u001b[38;5;132;01m:\u001b[39;00m\u001b[38;5;124m.2f\u001b[39m\u001b[38;5;132;01m}\u001b[39;00m\u001b[38;5;124m'\u001b[39m)\n\u001b[0;32m     15\u001b[0m \u001b[38;5;66;03m# Fit DictVectorizer and transform January data\u001b[39;00m\n",
      "\u001b[1;31mValueError\u001b[0m: too many values to unpack (expected 2)"
     ]
    }
   ],
   "source": [
    "# Read and preprocess January data\n",
    "# READ JANUARY DATA\n",
    "january_data_path = os.path.join(DATA_PATH, 'yellow_tripdata_2023-01.parquet')\n",
    "january_df = read_data(january_data_path)\n",
    "\n",
    "print(f'Number of columns in January data: {january_df.shape[1]}')\n",
    "january_df = preprocess_data(january_df)\n",
    "january_duration_std_dev = january_df['duration'].std()\n",
    "print(f'Standard deviation of trips duration in January: {january_duration_std_dev:.2f}')\n",
    "\n",
    "# Filter outliers in January data\n",
    "january_filtered_df, records_left_fraction = preprocess_data(january_df)\n",
    "print(f'Fraction of records left after dropping outliers: {records_left_fraction:.2f}')\n",
    "\n",
    "# Fit DictVectorizer and transform January data\n",
    "X_train, dv = one_hot_encode(january_filtered_df)\n",
    "print(f'Dimensionality of the feature matrix: {X_train.shape[1]}')\n",
    "\n",
    "# Train model on January data\n",
    "model, train_rmse = train_model(X_train, january_filtered_df['duration'].values)\n",
    "print(f'Training RMSE: {train_rmse:.2f}')"
   ]
  },
  {
   "cell_type": "code",
   "execution_count": null,
   "metadata": {},
   "outputs": [],
   "source": [
    "\n",
    "\n",
    "# Read and preprocess February data\n",
    "february_data_path = 'https://d37ci6vzurychx.cloudfront.net/trip-data/yellow_tripdata_2023-02.parquet'\n",
    "february_df = read_data(february_data_path)\n",
    "february_df = preprocess_data(february_df)\n",
    "february_duration_std_dev = february_df['duration'].std()\n",
    "print(f'Standard deviation of trips duration in February: {february_duration_std_dev:.2f}')\n",
    "\n",
    "# Filter outliers in February data\n",
    "february_filtered_df, _ = outliers(february_df)\n",
    "print(f'Fraction of records left after dropping outliers: {records_left_fraction:.2f}')\n",
    "\n",
    "# One-hot encode February data using the same DictVectorizer\n",
    "X_val, _ = one_hot_encode(february_filtered_df, dv)\n",
    "print(f'Validation Feature Matrix size: {X_val.shape}')\n",
    "\n",
    "# Predict on February data and calculate RMSE\n",
    "y_val = february_filtered_df['duration'].values\n",
    "y_pred = model.predict(X_val)\n",
    "val_rmse = rmse(y_val, y_pred)\n",
    "print(f'Validation RMSE: {val_rmse:.2f}')\n"
   ]
  },
  {
   "cell_type": "code",
   "execution_count": null,
   "metadata": {},
   "outputs": [],
   "source": []
  },
  {
   "cell_type": "code",
   "execution_count": null,
   "metadata": {},
   "outputs": [],
   "source": []
  }
 ],
 "metadata": {
  "kernelspec": {
   "display_name": "MLOps_ZoomCamp_Datatalks_2024",
   "language": "python",
   "name": "python3"
  },
  "language_info": {
   "codemirror_mode": {
    "name": "ipython",
    "version": 3
   },
   "file_extension": ".py",
   "mimetype": "text/x-python",
   "name": "python",
   "nbconvert_exporter": "python",
   "pygments_lexer": "ipython3",
   "version": "3.9.19"
  }
 },
 "nbformat": 4,
 "nbformat_minor": 2
}
