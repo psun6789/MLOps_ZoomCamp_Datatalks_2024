{
 "cells": [
  {
   "cell_type": "code",
   "execution_count": 1,
   "metadata": {},
   "outputs": [],
   "source": [
    "# import\n",
    "import os\n",
    "import numpy as np\n",
    "import pandas as pd\n",
    "import pyarrow.parquet as pa\n",
    "from sklearn.feature_extraction import DictVectorizer\n",
    "\n",
    "from sklearn.linear_model import LinearRegression\n",
    "from sklearn.metrics import mean_squared_error\n",
    "# # Lets plot\n",
    "# import seaborn as sns\n",
    "# import matplotlib.pyplot as plt\n",
    "\n",
    "import warnings\n",
    "warnings.filterwarnings('ignore')"
   ]
  },
  {
   "cell_type": "code",
   "execution_count": 2,
   "metadata": {},
   "outputs": [],
   "source": [
    "# setting path to the data directory\n",
    "CURRENT_DIRECTORY = os.getcwd()\n",
    "PARENT_DIRECTORY = os.path.dirname(CURRENT_DIRECTORY)\n",
    "DATA_PATH = os.path.join(PARENT_DIRECTORY, '_data')"
   ]
  },
  {
   "cell_type": "code",
   "execution_count": 3,
   "metadata": {},
   "outputs": [],
   "source": [
    "# read the data\n",
    "def read_data(data):\n",
    "    if data.endswith('.parquet'):\n",
    "        data = pa.read_table(data)\n",
    "        df = data.to_pandas() # converting to pandas df\n",
    "        df.columns = df.columns.str.lower()\n",
    "        return df\n",
    "    elif data.endswith('.csv'):\n",
    "        df = pd.read_csv(data)\n",
    "        df.columns = df.columns.str.lower()\n",
    "        return df\n",
    "\n",
    "    else:\n",
    "        return 'Not valid format'"
   ]
  },
  {
   "cell_type": "code",
   "execution_count": 4,
   "metadata": {},
   "outputs": [],
   "source": [
    "# To calculate the standard deviation of the pick and drop time in minutes\n",
    "def standard_deviation(data):\n",
    "    data['duration'] = pd.to_datetime(data['tpep_dropoff_datetime']) - pd.to_datetime(data['tpep_pickup_datetime'])\n",
    "    # Convert duration to total seconds\n",
    "    data['duration'] = data['duration'].dt.total_seconds()\n",
    "    # Convert seconds to hours and minutes\n",
    "    data['duration'] = data['duration'] / 60\n",
    "    # Standard deviation\n",
    "    return data, data['duration'].std()"
   ]
  },
  {
   "cell_type": "code",
   "execution_count": 5,
   "metadata": {},
   "outputs": [],
   "source": [
    "def outliers(data):\n",
    "    january_outliers = data[(data['duration']>=1)&(data['duration']<=60)]\n",
    "    return january_outliers, (january_outliers.shape[0] / data.shape[0]) * 100"
   ]
  },
  {
   "cell_type": "code",
   "execution_count": 6,
   "metadata": {},
   "outputs": [],
   "source": [
    "# One-hot encoding\n",
    "def One_hot_encoding(data, vectorise=None):\n",
    "    # Converting pick up and drop off location id into strings\n",
    "    data['pulocationid'] = data['pulocationid'].astype(str)\n",
    "    data['dolocationid'] = data['dolocationid'].astype(str)\n",
    "\n",
    "    # Converting DataFrame into a list of dictionaries\n",
    "    df_dict = data[['pulocationid', 'dolocationid']].to_dict(orient='records')\n",
    "\n",
    "    # Initialise a DictVectorizer if not provided\n",
    "    if vectorise is None:\n",
    "        vectorise = DictVectorizer(sparse=False)\n",
    "        X = vectorise.fit_transform(df_dict)\n",
    "        return X, vectorise\n",
    "    else:\n",
    "        X = vectorise.transform(df_dict)\n",
    "        return X"
   ]
  },
  {
   "cell_type": "code",
   "execution_count": 7,
   "metadata": {},
   "outputs": [],
   "source": [
    "# Define RMSE function\n",
    "def rmse(y_true, y_pred):\n",
    "    return mean_squared_error(y_true, y_pred, squared=False)"
   ]
  },
  {
   "cell_type": "code",
   "execution_count": 8,
   "metadata": {},
   "outputs": [],
   "source": [
    "def training(data, X_train):\n",
    "    y_train = data['duration'].values\n",
    "\n",
    "    linear_regression = LinearRegression()\n",
    "    linear_regression.fit(X_train, y_train)\n",
    "    y_prediction = linear_regression.predict(X_train)\n",
    "\n",
    "    # Calculate the Root Mean Square Error\n",
    "    RMSE = rmse(y_train, y_prediction)\n",
    "    return linear_regression, y_train, y_prediction, RMSE"
   ]
  },
  {
   "cell_type": "markdown",
   "metadata": {},
   "source": [
    "-----"
   ]
  },
  {
   "cell_type": "code",
   "execution_count": 9,
   "metadata": {},
   "outputs": [],
   "source": [
    "# READ JANUARY DATA\n",
    "january_data_path = os.path.join(DATA_PATH, 'yellow_tripdata_2023-01.parquet')\n",
    "january = read_data(january_data_path)\n",
    "# READ FEBRUARY DATA\n",
    "february_data_path = os.path.join(DATA_PATH, 'yellow_tripdata_2023-02.parquet')\n",
    "february = read_data(february_data_path)"
   ]
  },
  {
   "cell_type": "code",
   "execution_count": 10,
   "metadata": {},
   "outputs": [
    {
     "name": "stdout",
     "output_type": "stream",
     "text": [
      "Standard Deviation of Pick and Drop time for the month of January (time in minutes) 42.59435124195458\n"
     ]
    }
   ],
   "source": [
    "january, january_duriation_std_dev = standard_deviation(january)\n",
    "print('Standard Deviation of Pick and Drop time for the month of January (time in minutes)', january_duriation_std_dev)"
   ]
  },
  {
   "cell_type": "code",
   "execution_count": 11,
   "metadata": {},
   "outputs": [
    {
     "name": "stdout",
     "output_type": "stream",
     "text": [
      "Fraction of the records left after dropping the outliers =  98.1220282212598\n"
     ]
    }
   ],
   "source": [
    "january_df, records_left = outliers(january)\n",
    "print('Fraction of the records left after dropping the outliers = ', records_left)"
   ]
  },
  {
   "cell_type": "code",
   "execution_count": 12,
   "metadata": {},
   "outputs": [
    {
     "name": "stdout",
     "output_type": "stream",
     "text": [
      "*******************************************\n",
      "*******************************************\n",
      "Feature Matrix size = (3009173, 515)\n"
     ]
    }
   ],
   "source": [
    "# Fit DictVectorizer and transform January data\n",
    "X_train, vectorise = One_hot_encoding(january_df, vectorise=None)\n",
    "print('*******************************************')\n",
    "print('*******************************************')\n",
    "print(f'Feature Matrix size = {X_train.shape}')"
   ]
  },
  {
   "cell_type": "code",
   "execution_count": 13,
   "metadata": {},
   "outputs": [
    {
     "name": "stdout",
     "output_type": "stream",
     "text": [
      "Training Root Mean Square Error = 7.649265256581374\n"
     ]
    }
   ],
   "source": [
    "linear_regression, y_train, y_prediction, RMSE = training(january_df, X_train)\n",
    "print(f'Training Root Mean Square Error = {RMSE}')"
   ]
  },
  {
   "cell_type": "code",
   "execution_count": 14,
   "metadata": {},
   "outputs": [
    {
     "name": "stdout",
     "output_type": "stream",
     "text": [
      "Standard Deviation of Pick and Drop time for the month of FEbruary (time in minutes) 42.84210176105113\n"
     ]
    }
   ],
   "source": [
    "february, february_duriation_std_dev = standard_deviation(february)\n",
    "print('Standard Deviation of Pick and Drop time for the month of FEbruary (time in minutes)', february_duriation_std_dev)"
   ]
  },
  {
   "cell_type": "code",
   "execution_count": 15,
   "metadata": {},
   "outputs": [
    {
     "name": "stdout",
     "output_type": "stream",
     "text": [
      "Fraction of the records left after dropping the outliers =  98.00944077722545\n"
     ]
    }
   ],
   "source": [
    "february_df, records_left = outliers(february)\n",
    "print('Fraction of the records left after dropping the outliers = ', records_left)"
   ]
  },
  {
   "cell_type": "code",
   "execution_count": 16,
   "metadata": {},
   "outputs": [
    {
     "name": "stdout",
     "output_type": "stream",
     "text": [
      "*******************************************\n",
      "*******************************************\n",
      "Validation Feature Matrix size = (2855951, 515)\n"
     ]
    }
   ],
   "source": [
    "# Transform February data using the fitted DictVectorizer\n",
    "X_val = One_hot_encoding(february_df, vectorise)\n",
    "print('*******************************************')\n",
    "print('*******************************************')\n",
    "print(f'Validation Feature Matrix size = {X_val.shape}')"
   ]
  },
  {
   "cell_type": "code",
   "execution_count": 17,
   "metadata": {},
   "outputs": [
    {
     "name": "stdout",
     "output_type": "stream",
     "text": [
      "Validation RMSE: 12365689.451843796\n"
     ]
    }
   ],
   "source": [
    "# Predict on February data\n",
    "y_val = february_df['duration'].values\n",
    "y_pred = linear_regression.predict(X_val)\n",
    "print(f'Validation RMSE: {rmse(y_val, y_pred)}')"
   ]
  },
  {
   "cell_type": "code",
   "execution_count": null,
   "metadata": {},
   "outputs": [],
   "source": []
  },
  {
   "cell_type": "code",
   "execution_count": null,
   "metadata": {},
   "outputs": [],
   "source": []
  },
  {
   "cell_type": "code",
   "execution_count": null,
   "metadata": {},
   "outputs": [],
   "source": []
  },
  {
   "cell_type": "markdown",
   "metadata": {},
   "source": [
    "-----"
   ]
  }
 ],
 "metadata": {
  "kernelspec": {
   "display_name": "Python 3",
   "language": "python",
   "name": "python3"
  },
  "language_info": {
   "codemirror_mode": {
    "name": "ipython",
    "version": 3
   },
   "file_extension": ".py",
   "mimetype": "text/x-python",
   "name": "python",
   "nbconvert_exporter": "python",
   "pygments_lexer": "ipython3",
   "version": "3.9.7"
  }
 },
 "nbformat": 4,
 "nbformat_minor": 2
}
